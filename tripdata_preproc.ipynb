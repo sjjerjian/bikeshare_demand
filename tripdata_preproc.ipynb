{
 "cells": [
  {
   "cell_type": "code",
   "execution_count": 1,
   "id": "8fbfdd3b-a49b-46ab-909b-369ff7c34cfc",
   "metadata": {
    "tags": []
   },
   "outputs": [],
   "source": [
    "import boto3\n",
    "import io\n",
    "import numpy as np\n",
    "import pandas as pd"
   ]
  },
  {
   "cell_type": "code",
   "execution_count": 2,
   "id": "00629288-b132-4b0a-86da-f80d4fdd7563",
   "metadata": {
    "tags": []
   },
   "outputs": [],
   "source": [
    "s3 = boto3.resource('s3')\n",
    "bucket = s3.Bucket(\"cabi-tripdata\")\n",
    "\n",
    "df_rides = []\n",
    "for f, obj in enumerate(bucket.objects.all()):\n",
    "    body = obj.get()['Body'].read()\n",
    "    temp = pd.read_csv(io.BytesIO(body), encoding='utf8')\n",
    "    df_rides.append(temp)\n",
    "\n",
    "#df_rides = pd.concat(df_rides, ignore_index=True)"
   ]
  },
  {
   "cell_type": "code",
   "execution_count": 3,
   "id": "6962f66a-fb7b-4460-be11-33430d8e30a3",
   "metadata": {
    "tags": []
   },
   "outputs": [],
   "source": [
    "df_rides_all = pd.concat(df_rides)"
   ]
  },
  {
   "cell_type": "markdown",
   "id": "203394d0-727f-42e6-b618-c25be2300758",
   "metadata": {},
   "source": [
    "#### clean up, and engineer some logical and datetime features"
   ]
  },
  {
   "cell_type": "code",
   "execution_count": 4,
   "id": "d192e603-95ca-4099-aaba-6ad603a15abe",
   "metadata": {
    "tags": []
   },
   "outputs": [],
   "source": [
    "time_cols = ['started_at', 'ended_at']\n",
    "df_rides_all[time_cols] = df_rides_all[time_cols].apply(pd.to_datetime)"
   ]
  },
  {
   "cell_type": "code",
   "execution_count": 10,
   "id": "10119143-7809-471c-88b5-b869278b3508",
   "metadata": {
    "tags": []
   },
   "outputs": [],
   "source": [
    "# remove some rides with missing end locations\n",
    "missing_end_location = df_rides_all.loc[(df_rides_all['end_lat'].isna()) | (df_rides_all['end_lat']==0) | (df_rides_all['end_lng']==0)]\n",
    "rides_clean = df_rides_all.drop(missing_end_location.index, axis=0)\n",
    "\n",
    "# drop ride ID\n",
    "rides_clean = rides_clean.drop('ride_id', axis=1)\n",
    "\n",
    "rides_clean['is_ebike'] = rides_clean['rideable_type'] == 'electric_bike'\n",
    "rides_clean['is_member'] = rides_clean['member_casual'] == 'member'\n",
    "rides_clean['start_docked'] = ~rides_clean['start_station_id'].isna()\n",
    "rides_clean['end_docked'] = ~rides_clean['end_station_id'].isna()\n",
    "\n",
    "rides_clean.loc[:, 'start_hour'] = rides_clean.loc[:,'started_at'].dt.floor(\"H\")\n",
    "rides_clean.loc[:, 'end_hour'] = rides_clean.loc[:,'ended_at'].dt.floor(\"H\")\n",
    "rides_clean.loc[:, 'duration_mins'] = rides_clean['ended_at'] - rides_clean['started_at']\n",
    "rides_clean.loc[:, 'duration_mins'] = np.round(rides_clean.loc[:, 'duration_mins'].dt.total_seconds()/60, 2)"
   ]
  },
  {
   "cell_type": "code",
   "execution_count": 12,
   "id": "d3327725-85b7-4e37-b09e-18b8e8b08e5e",
   "metadata": {
    "tags": []
   },
   "outputs": [],
   "source": [
    "rides_clean.to_csv(\"data/df_rides.csv\", index=False)"
   ]
  },
  {
   "cell_type": "code",
   "execution_count": 13,
   "id": "a4f4d5c1-551b-4dff-b29e-b66e9d8a3031",
   "metadata": {
    "tags": []
   },
   "outputs": [],
   "source": [
    "# drop rides with missing start or end\n",
    "no_stations = (rides_clean['start_station_id'].isna()) | (rides_clean['end_station_id'].isna())\n",
    "rides_clean = rides_clean.loc[~no_stations, :]\n",
    "\n",
    "train_cutoff = pd.Timestamp(2023, 6, 1)\n",
    "rides_train = rides_clean.loc[(rides_clean['started_at'] <= train_cutoff)\n",
    "                              & (rides_clean['ended_at'] <= train_cutoff), :]\n",
    "rides_test = rides_clean.loc[rides_clean['started_at'] > train_cutoff, :]\n",
    "\n",
    "# save train and test raw datasets\n",
    "rides_train.to_csv(\"data/rides_train_clean.csv\", index=False)\n",
    "rides_test.to_csv(\"data/rides_test_clean.csv\", index=False)"
   ]
  },
  {
   "cell_type": "code",
   "execution_count": null,
   "id": "928e1fc8-9382-4b97-a06f-2f9b12489257",
   "metadata": {},
   "outputs": [],
   "source": []
  },
  {
   "cell_type": "code",
   "execution_count": 8,
   "id": "164cd15b-e12b-4d64-87af-d5a79240da12",
   "metadata": {
    "tags": []
   },
   "outputs": [],
   "source": [
    "def haversine_distance(X, Y):\n",
    "    \"\"\"\n",
    "    Calculate the Haversine distance between two points given their longitude and latitude coordinates.\n",
    "    X and Y should be provided as nx2 arrays, with lon,lat columns\n",
    "    \"\"\"\n",
    "    X = np.radians(X)\n",
    "    Y = np.radians(Y)\n",
    "\n",
    "    dlon = Y[:, 0] - X[:, 0]\n",
    "    dlat = Y[:, 1] - X[:, 1]\n",
    "\n",
    "    a = np.sin(dlat / 2) ** 2 + np.cos(X[:, 1]) * np.cos(Y[:, 1]) * np.sin(dlon / 2) ** 2\n",
    "    c = 2 * np.arctan2(np.sqrt(a), np.sqrt(1 - a))\n",
    "    #distance = c / 6371  # Radius of the Earth in kilometers\n",
    "    distance = c / 3958.8  # Radius of the Earth in miles\n",
    "\n",
    "    return distance\n",
    "\n",
    "# calculate the distance of each ride, in great-circle\n",
    "start_locs = rides_clean[['start_lng', 'start_lat']].values\n",
    "end_locs = rides_clean[['end_lng', 'end_lat']].values\n",
    "rides_clean['ride_hav_dist_mi'] = haversine_distance(start_locs, end_locs)  # convert to miles"
   ]
  },
  {
   "cell_type": "code",
   "execution_count": 2,
   "id": "dd7b62e4-1068-46bd-a8b8-5c09deeb9133",
   "metadata": {},
   "outputs": [],
   "source": [
    "import boto3\n",
    "\n",
    "s3 = boto3.client('s3')\n",
    "\n",
    "local_file_path = 'data/rides_train.csv'\n",
    "s3_bucket = \"sagemaker-cabi-data\"\n",
    "s3_key = 'rides_train.csv'\n",
    "\n",
    "# Upload the file to S3\n",
    "s3.upload_file(Filename=local_file_path, Bucket=s3_bucket, Key=s3_key)\n",
    "\n",
    "local_file_path = 'data/rides_test.csv'\n",
    "s3_bucket = \"cabi-train-test\"\n",
    "s3_key = 'rides_test.csv'\n",
    "\n",
    "# Upload the file to S3\n",
    "s3.upload_file(Filename=local_file_path, Bucket=s3_bucket, Key=s3_key)"
   ]
  },
  {
   "cell_type": "code",
   "execution_count": null,
   "id": "e02621d2-1f70-4c7c-87f4-58a29f5fd2fe",
   "metadata": {},
   "outputs": [],
   "source": []
  }
 ],
 "metadata": {
  "kernelspec": {
   "display_name": "scipy:Python",
   "language": "python",
   "name": "conda-env-scipy-py"
  },
  "language_info": {
   "codemirror_mode": {
    "name": "ipython",
    "version": 3
   },
   "file_extension": ".py",
   "mimetype": "text/x-python",
   "name": "python",
   "nbconvert_exporter": "python",
   "pygments_lexer": "ipython3",
   "version": "3.9.16"
  }
 },
 "nbformat": 4,
 "nbformat_minor": 5
}
